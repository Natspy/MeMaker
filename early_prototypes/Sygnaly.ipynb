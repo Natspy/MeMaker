{
  "nbformat": 4,
  "nbformat_minor": 0,
  "metadata": {
    "colab": {
      "name": "Sygnaly.ipynb",
      "provenance": [],
      "collapsed_sections": []
    },
    "kernelspec": {
      "name": "python3",
      "display_name": "Python 3"
    },
    "language_info": {
      "name": "python"
    }
  },
  "cells": [
    {
      "cell_type": "code",
      "metadata": {
        "colab": {
          "base_uri": "https://localhost:8080/"
        },
        "id": "6tyXeKG9_QIT",
        "outputId": "628b0f0e-a817-43e8-a926-e08585d074d0"
      },
      "source": [
        "!pip3 install librosa"
      ],
      "execution_count": 14,
      "outputs": [
        {
          "output_type": "stream",
          "text": [
            "Requirement already satisfied: librosa in /usr/local/lib/python3.7/dist-packages (0.8.0)\n",
            "Requirement already satisfied: numba>=0.43.0 in /usr/local/lib/python3.7/dist-packages (from librosa) (0.51.2)\n",
            "Requirement already satisfied: scipy>=1.0.0 in /usr/local/lib/python3.7/dist-packages (from librosa) (1.4.1)\n",
            "Requirement already satisfied: pooch>=1.0 in /usr/local/lib/python3.7/dist-packages (from librosa) (1.3.0)\n",
            "Requirement already satisfied: scikit-learn!=0.19.0,>=0.14.0 in /usr/local/lib/python3.7/dist-packages (from librosa) (0.22.2.post1)\n",
            "Requirement already satisfied: audioread>=2.0.0 in /usr/local/lib/python3.7/dist-packages (from librosa) (2.1.9)\n",
            "Requirement already satisfied: decorator>=3.0.0 in /usr/local/lib/python3.7/dist-packages (from librosa) (4.4.2)\n",
            "Requirement already satisfied: joblib>=0.14 in /usr/local/lib/python3.7/dist-packages (from librosa) (1.0.1)\n",
            "Requirement already satisfied: resampy>=0.2.2 in /usr/local/lib/python3.7/dist-packages (from librosa) (0.2.2)\n",
            "Requirement already satisfied: soundfile>=0.9.0 in /usr/local/lib/python3.7/dist-packages (from librosa) (0.10.3.post1)\n",
            "Requirement already satisfied: numpy>=1.15.0 in /usr/local/lib/python3.7/dist-packages (from librosa) (1.19.5)\n",
            "Requirement already satisfied: llvmlite<0.35,>=0.34.0.dev0 in /usr/local/lib/python3.7/dist-packages (from numba>=0.43.0->librosa) (0.34.0)\n",
            "Requirement already satisfied: setuptools in /usr/local/lib/python3.7/dist-packages (from numba>=0.43.0->librosa) (56.1.0)\n",
            "Requirement already satisfied: requests in /usr/local/lib/python3.7/dist-packages (from pooch>=1.0->librosa) (2.23.0)\n",
            "Requirement already satisfied: packaging in /usr/local/lib/python3.7/dist-packages (from pooch>=1.0->librosa) (20.9)\n",
            "Requirement already satisfied: appdirs in /usr/local/lib/python3.7/dist-packages (from pooch>=1.0->librosa) (1.4.4)\n",
            "Requirement already satisfied: six>=1.3 in /usr/local/lib/python3.7/dist-packages (from resampy>=0.2.2->librosa) (1.15.0)\n",
            "Requirement already satisfied: cffi>=1.0 in /usr/local/lib/python3.7/dist-packages (from soundfile>=0.9.0->librosa) (1.14.5)\n",
            "Requirement already satisfied: urllib3!=1.25.0,!=1.25.1,<1.26,>=1.21.1 in /usr/local/lib/python3.7/dist-packages (from requests->pooch>=1.0->librosa) (1.24.3)\n",
            "Requirement already satisfied: chardet<4,>=3.0.2 in /usr/local/lib/python3.7/dist-packages (from requests->pooch>=1.0->librosa) (3.0.4)\n",
            "Requirement already satisfied: idna<3,>=2.5 in /usr/local/lib/python3.7/dist-packages (from requests->pooch>=1.0->librosa) (2.10)\n",
            "Requirement already satisfied: certifi>=2017.4.17 in /usr/local/lib/python3.7/dist-packages (from requests->pooch>=1.0->librosa) (2020.12.5)\n",
            "Requirement already satisfied: pyparsing>=2.0.2 in /usr/local/lib/python3.7/dist-packages (from packaging->pooch>=1.0->librosa) (2.4.7)\n",
            "Requirement already satisfied: pycparser in /usr/local/lib/python3.7/dist-packages (from cffi>=1.0->soundfile>=0.9.0->librosa) (2.20)\n"
          ],
          "name": "stdout"
        }
      ]
    },
    {
      "cell_type": "code",
      "metadata": {
        "colab": {
          "base_uri": "https://localhost:8080/",
          "height": 332
        },
        "id": "x0xQctnu3AEC",
        "outputId": "9cb9706e-668e-4a09-805c-a913e6bf6706"
      },
      "source": [
        "# -*- coding: utf-8 -*-\n",
        "import numpy as np\n",
        "import matplotlib.pyplot as plt\n",
        "import scipy.signal as ss\n",
        "from scipy.signal import iirnotch\n",
        "from scipy.signal import butter\n",
        "from scipy.signal import lfilter, filtfilt\n",
        "from  scipy.signal import find_peaks\n",
        "import more_itertools as mit\n",
        "import re\n",
        "import os\n",
        "import pickle\n",
        "import pandas as pd\n",
        "import numpy as np\n",
        "import matplotlib.pyplot as plt\n",
        "import seaborn as sns\n",
        "from matplotlib.colors import ListedColormap\n",
        "from sklearn import neighbors, datasets\n",
        "from sklearn.tree import DecisionTreeClassifier\n",
        "from sklearn.model_selection import train_test_split\n",
        "from sklearn.ensemble import RandomForestClassifier\n",
        "from sklearn import metrics\n",
        "\n",
        "with open('ECG_data.pkl', 'rb') as f:\n",
        "    data = pickle.load(f)\n",
        "\n",
        "def FindSequence(syg, n):\n",
        "  syg = list(syg)\n",
        "  indexes = [syg.index(i) for i in syg if i >= 0.3]\n",
        "  temp = [list(group) for group in mit.consecutive_groups(indexes)]\n",
        "  result =  [group for group in temp if len(group) >= n]\n",
        "  return result\n",
        "\n",
        "rest_ekg = data[0][0]\n",
        "spiders_ekg = data[0][1]\n",
        "\n",
        "Fs = 100\n",
        "T = len(rest_ekg)/Fs\n",
        "dt = 1/Fs\n",
        "t = np.arange(0,T,dt)\n",
        "\n",
        "min_len = 60*Fs #długość minuty\n",
        "R_peaks = FindSequence(rest_ekg, 2)\n",
        "print(\"Liczba wykrytych pików R w minucie sygnału zebranego podczas odpoczynku:\",len(R_peaks))\n",
        "\n",
        "R = FindSequence(rest_ekg, 2)\n",
        "print(\"Liczba wykrytych pików R:\",len(R))\n",
        "plt.plot(t, rest_ekg)\n",
        "for i in R:\n",
        "    plt.axvline(x=t[i][1],ymin=-0.5,ymax=1,color=\"crimson\")\n",
        "plt.title('Przefiltrowany sygnał z pikami R zaznaczonymi kolorem czerwonym (FindSequence())')\n",
        "plt.ylabel(\"Napięcie [mV]\")\n",
        "plt.xlabel('Czas [s]')\n",
        "plt.grid(True)\n",
        "plt.show()"
      ],
      "execution_count": 61,
      "outputs": [
        {
          "output_type": "stream",
          "text": [
            "Liczba wykrytych pików R w minucie sygnału zebranego podczas odpoczynku: 94\n",
            "Liczba wykrytych pików R: 94\n"
          ],
          "name": "stdout"
        },
        {
          "output_type": "display_data",
          "data": {
            "image/png": "[encoded data removed]",
            "text/plain": [
              "<Figure size 432x288 with 1 Axes>"
            ]
          },
          "metadata": {
            "tags": [],
            "needs_background": "light"
          }
        }
      ]
    },
    {
      "cell_type": "code",
      "metadata": {
        "colab": {
          "base_uri": "https://localhost:8080/",
          "height": 332
        },
        "id": "BsN0WmR-Gplp",
        "outputId": "8cab877d-59e9-4913-a5cb-7858ad1ecb15"
      },
      "source": [
        "Fs = 100\n",
        "T2 = len(spiders_ekg)/Fs\n",
        "dt = 1/Fs\n",
        "t2 = np.arange(0,T2,dt)\n",
        "\n",
        "x1 = 30000\n",
        "x2 = 36000\n",
        "\n",
        "'''\n",
        "plt.plot(t2[x1:x2], spiders_ekg[x1:x2])\n",
        "plt.show()\n",
        "'''\n",
        "\n",
        "all_R_peaks = FindSequence(spiders_ekg, 2)\n",
        "print('tętno (pająki):', len(all_R_peaks)/(len(t2)/min_len))\n",
        "\n",
        "syg_samp = spiders_ekg[x1:x2]\n",
        "t_samp = t2[x1:x2]\n",
        "\n",
        "R = FindSequence(syg_samp, 2)\n",
        "print(\"Liczba wykrytych pików R:\",len(R))\n",
        "plt.plot(t_samp,syg_samp)\n",
        "for i in R:\n",
        "    plt.axvline(x=t_samp[i][1],ymin=-200,ymax=600,color=\"crimson\")\n",
        "plt.title('Przefiltrowany sygnał z pikami R zaznaczonymi kolorem czerwonym (FindSequence())')\n",
        "plt.ylabel(\"Napięcie [mV]\")\n",
        "plt.xlabel('Czas [s]')\n",
        "plt.grid(True)\n",
        "plt.show()\n"
      ],
      "execution_count": null,
      "outputs": [
        {
          "output_type": "stream",
          "text": [
            "tętno (pająki): 91.5625\n",
            "Liczba wykrytych pików R: 85\n"
          ],
          "name": "stdout"
        },
        {
          "output_type": "display_data",
          "data": {
            "image/png": "[encoded data removed]",
            "text/plain": [
              "<Figure size 432x288 with 1 Axes>"
            ]
          },
          "metadata": {
            "tags": [],
            "needs_background": "light"
          }
        }
      ]
    },
    {
      "cell_type": "code",
      "metadata": {
        "colab": {
          "base_uri": "https://localhost:8080/",
          "height": 246
        },
        "id": "As7ZxpAyNl9Y",
        "outputId": "1cbc577d-45db-4e82-f70d-3e2410c9b718"
      },
      "source": [
        "with open('ECG_Data.pkl', 'rb') as f:\n",
        "    data = pickle.load(f)\n",
        "\n",
        "def FindSequence(syg, n):\n",
        "  syg = list(syg)\n",
        "  indexes = [syg.index(i) for i in syg if i >= 0.3]\n",
        "  temp = [list(group) for group in mit.consecutive_groups(indexes)]\n",
        "  result =  [group for group in temp if len(group) >= n]\n",
        "  return result\n",
        "\n",
        "'''\n",
        "HR = []\n",
        "for item in data:\n",
        "  for ar in item:\n",
        "    R = FindSequence(ar, 3)\n",
        "'''\n",
        "\n",
        "rest_ekg = data[1][0]\n",
        "spiders_ekg = data[1][1]\n",
        "\n",
        "Fs = 100\n",
        "T = len(rest_ekg)/Fs\n",
        "dt = 1/Fs\n",
        "t = np.arange(0,T,dt)\n",
        "\n",
        "min_len = 60*Fs #długość minuty\n",
        "R_peaks = FindSequence(rest_ekg, 2)\n",
        "print(\"Liczba wykrytych pików R w minucie sygnału zebranego podczas odpoczynku:\",len(R_peaks))\n",
        "\n",
        "R = FindSequence(rest_ekg, 2)\n",
        "print(\"Liczba wykrytych pików R:\",len(R))\n",
        "plt.plot(t, rest_ekg)\n",
        "for i in R:\n",
        "    plt.axvline(x=t[i][1],ymin=-0.5,ymax=1,color=\"crimson\")\n",
        "plt.title('Przefiltrowany sygnał z pikami R zaznaczonymi kolorem czerwonym (FindSequence())')\n",
        "plt.ylabel(\"Napięcie [mV]\")\n",
        "plt.xlabel('Czas [s]')\n",
        "plt.grid(True)\n",
        "plt.show()"
      ],
      "execution_count": null,
      "outputs": [
        {
          "output_type": "error",
          "ename": "FileNotFoundError",
          "evalue": "ignored",
          "traceback": [
            "\u001b[0;31m---------------------------------------------------------------------------\u001b[0m",
            "\u001b[0;31mFileNotFoundError\u001b[0m                         Traceback (most recent call last)",
            "\u001b[0;32m<ipython-input-5-e391e5266e75>\u001b[0m in \u001b[0;36m<module>\u001b[0;34m()\u001b[0m\n\u001b[0;32m----> 1\u001b[0;31m \u001b[0;32mwith\u001b[0m \u001b[0mopen\u001b[0m\u001b[0;34m(\u001b[0m\u001b[0;34m'ECG_Data.pkl'\u001b[0m\u001b[0;34m,\u001b[0m \u001b[0;34m'rb'\u001b[0m\u001b[0;34m)\u001b[0m \u001b[0;32mas\u001b[0m \u001b[0mf\u001b[0m\u001b[0;34m:\u001b[0m\u001b[0;34m\u001b[0m\u001b[0;34m\u001b[0m\u001b[0m\n\u001b[0m\u001b[1;32m      2\u001b[0m     \u001b[0mdata\u001b[0m \u001b[0;34m=\u001b[0m \u001b[0mpickle\u001b[0m\u001b[0;34m.\u001b[0m\u001b[0mload\u001b[0m\u001b[0;34m(\u001b[0m\u001b[0mf\u001b[0m\u001b[0;34m)\u001b[0m\u001b[0;34m\u001b[0m\u001b[0;34m\u001b[0m\u001b[0m\n\u001b[1;32m      3\u001b[0m \u001b[0;34m\u001b[0m\u001b[0m\n\u001b[1;32m      4\u001b[0m \u001b[0;32mdef\u001b[0m \u001b[0mFindSequence\u001b[0m\u001b[0;34m(\u001b[0m\u001b[0msyg\u001b[0m\u001b[0;34m,\u001b[0m \u001b[0mn\u001b[0m\u001b[0;34m)\u001b[0m\u001b[0;34m:\u001b[0m\u001b[0;34m\u001b[0m\u001b[0;34m\u001b[0m\u001b[0m\n\u001b[1;32m      5\u001b[0m   \u001b[0msyg\u001b[0m \u001b[0;34m=\u001b[0m \u001b[0mlist\u001b[0m\u001b[0;34m(\u001b[0m\u001b[0msyg\u001b[0m\u001b[0;34m)\u001b[0m\u001b[0;34m\u001b[0m\u001b[0;34m\u001b[0m\u001b[0m\n",
            "\u001b[0;31mFileNotFoundError\u001b[0m: [Errno 2] No such file or directory: 'ECG_Data.pkl'"
          ]
        }
      ]
    },
    {
      "cell_type": "code",
      "metadata": {
        "id": "BX7X4q0ANwXk"
      },
      "source": [
        "Fs = 100\n",
        "T2 = len(spiders_ekg)/Fs\n",
        "dt = 1/Fs\n",
        "t2 = np.arange(0,T2,dt)\n",
        "\n",
        "x1 = 30000\n",
        "x2 = 36000\n",
        "\n",
        "'''\n",
        "plt.plot(t2[x1:x2], spiders_ekg[x1:x2])\n",
        "plt.show()\n",
        "'''\n",
        "\n",
        "all_R_peaks = FindSequence(spiders_ekg, 2)\n",
        "print('tętno (pająki):', len(all_R_peaks)/(len(t2)/min_len))\n",
        "\n",
        "syg_samp = spiders_ekg[x1:x2]\n",
        "t_samp = t2[x1:x2]\n",
        "\n",
        "R = FindSequence(syg_samp, 2)\n",
        "print(\"Liczba wykrytych pików R:\",len(R))\n",
        "plt.plot(t_samp,syg_samp)\n",
        "for i in R:\n",
        "    plt.axvline(x=t_samp[i][1],ymin=-200,ymax=600,color=\"crimson\")\n",
        "plt.title('Przefiltrowany sygnał z pikami R zaznaczonymi kolorem czerwonym (FindSequence())')\n",
        "plt.ylabel(\"Napięcie [mV]\")\n",
        "plt.xlabel('Czas [s]')\n",
        "plt.grid(True)\n",
        "plt.show()"
      ],
      "execution_count": null,
      "outputs": []
    },
    {
      "cell_type": "code",
      "metadata": {
        "colab": {
          "base_uri": "https://localhost:8080/",
          "height": 283
        },
        "id": "tScaR9Ip9oD-",
        "outputId": "07495257-d22c-462c-e43b-c2a125705ce3"
      },
      "source": [
        "plt.plot(data[5][5])\n",
        "plt.plot(data[5][2])"
      ],
      "execution_count": 15,
      "outputs": [
        {
          "output_type": "execute_result",
          "data": {
            "text/plain": [
              "[<matplotlib.lines.Line2D at 0x7f4e35c57d10>]"
            ]
          },
          "metadata": {
            "tags": []
          },
          "execution_count": 15
        },
        {
          "output_type": "display_data",
          "data": {
            "image/png": "[encoded data removed]",
            "text/plain": [
              "<Figure size 432x288 with 1 Axes>"
            ]
          },
          "metadata": {
            "tags": [],
            "needs_background": "light"
          }
        }
      ]
    },
    {
      "cell_type": "code",
      "metadata": {
        "id": "Mx09QaPQOGsx",
        "colab": {
          "base_uri": "https://localhost:8080/",
          "height": 206
        },
        "outputId": "4d8a5be8-7136-4b9f-bb6e-69d8777cd577"
      },
      "source": [
        "names = np.array(['rest', 'tag','tag','tag'])#,'tag','tag','tag'])\n",
        "n = np.array(['rest', 'tag','tag','tag'])#,'tag','tag','tag'])\n",
        "\n",
        "all_HR_tags =  np.zeros(4)\n",
        "all_gsr_means =  np.zeros(4)\n",
        "\n",
        "for i in data.keys():\n",
        "  rest_ekg = data[i][0]\n",
        "  fear_ekg = data[i][1]\n",
        "  tags = data[i][2]\n",
        "  rest_gsr = data[i][4]\n",
        "  fear_gsr = data[i][5]\n",
        "\n",
        "  Fs = 100\n",
        "  dt = 1/Fs\n",
        "  \n",
        "  Tr = len(rest_ekg)/Fs\n",
        "  tr = np.arange(0,Tr,dt)\n",
        "\n",
        "  Tf = len(spiders_ekg)/Fs\n",
        "  tf = np.arange(0,Tf,dt)\n",
        "\n",
        "  R_peaks = FindSequence(rest_ekg, 2)\n",
        "  HR_rest = len(R_peaks)/(Tr/60)\n",
        "\n",
        "  tag = []\n",
        "  Tags = []\n",
        "  for item in range(len(tags)-1):\n",
        "    if tags[item] == 0 and tags[item+1] != 0:\n",
        "      start = item+1\n",
        "    elif tags[item] != 0 and tags[item+1] == 0:\n",
        "      stop = item\n",
        "      Tags.append((start,stop))\n",
        "  \n",
        "  gsr_tags = [np.average(rest_gsr)]\n",
        "  HR_tags = [HR_rest]\n",
        "  for tg in Tags:\n",
        "    tag_peaks = FindSequence(fear_ekg[tg[0]:tg[1]], 2)\n",
        "    Tt = (tg[1]-tg[0])/Fs\n",
        "    HR_tag = len(tag_peaks)/(Tt/60)\n",
        "    HR_tags.append(HR_tag)\n",
        "    gsr_tags.append(np.average(fear_gsr[tg[0]:tg[1]]))\n",
        "  \n",
        "  if len(HR_tags) >= 3 and len(gsr_tags) >= 3 and None not in gsr_tags:\n",
        "    all_HR_tags = np.hstack((all_HR_tags, np.array(HR_tags[:4])))\n",
        "    all_gsr_means = np.hstack((all_gsr_means, np.array(gsr_tags[:4])))\n",
        "    names = np.hstack((names, n))\n",
        "\n",
        "dataset = pd.DataFrame({\n",
        "  'hr': all_HR_tags,\n",
        "  'gsr': all_gsr_means,\n",
        "  'name': names,\n",
        "})\n",
        "dataset.head()"
      ],
      "execution_count": 64,
      "outputs": [
        {
          "output_type": "execute_result",
          "data": {
            "text/html": [
              "<div>\n",
              "<style scoped>\n",
              "    .dataframe tbody tr th:only-of-type {\n",
              "        vertical-align: middle;\n",
              "    }\n",
              "\n",
              "    .dataframe tbody tr th {\n",
              "        vertical-align: top;\n",
              "    }\n",
              "\n",
              "    .dataframe thead th {\n",
              "        text-align: right;\n",
              "    }\n",
              "</style>\n",
              "<table border=\"1\" class=\"dataframe\">\n",
              "  <thead>\n",
              "    <tr style=\"text-align: right;\">\n",
              "      <th></th>\n",
              "      <th>hr</th>\n",
              "      <th>gsr</th>\n",
              "      <th>name</th>\n",
              "    </tr>\n",
              "  </thead>\n",
              "  <tbody>\n",
              "    <tr>\n",
              "      <th>0</th>\n",
              "      <td>0.0</td>\n",
              "      <td>0.000000</td>\n",
              "      <td>rest</td>\n",
              "    </tr>\n",
              "    <tr>\n",
              "      <th>1</th>\n",
              "      <td>0.0</td>\n",
              "      <td>0.000000</td>\n",
              "      <td>tag</td>\n",
              "    </tr>\n",
              "    <tr>\n",
              "      <th>2</th>\n",
              "      <td>0.0</td>\n",
              "      <td>0.000000</td>\n",
              "      <td>tag</td>\n",
              "    </tr>\n",
              "    <tr>\n",
              "      <th>3</th>\n",
              "      <td>0.0</td>\n",
              "      <td>0.000000</td>\n",
              "      <td>tag</td>\n",
              "    </tr>\n",
              "    <tr>\n",
              "      <th>4</th>\n",
              "      <td>94.0</td>\n",
              "      <td>2.794556</td>\n",
              "      <td>rest</td>\n",
              "    </tr>\n",
              "  </tbody>\n",
              "</table>\n",
              "</div>"
            ],
            "text/plain": [
              "     hr       gsr  name\n",
              "0   0.0  0.000000  rest\n",
              "1   0.0  0.000000   tag\n",
              "2   0.0  0.000000   tag\n",
              "3   0.0  0.000000   tag\n",
              "4  94.0  2.794556  rest"
            ]
          },
          "metadata": {
            "tags": []
          },
          "execution_count": 64
        }
      ]
    },
    {
      "cell_type": "code",
      "metadata": {
        "colab": {
          "base_uri": "https://localhost:8080/",
          "height": 424
        },
        "id": "lmJ98azz5kf6",
        "outputId": "d15eedcf-1fd0-4716-d2e1-8acc40a20d7d"
      },
      "source": [
        "from IPython.display import display, HTML\n",
        "\n",
        "display(dataset)"
      ],
      "execution_count": 65,
      "outputs": [
        {
          "output_type": "display_data",
          "data": {
            "text/html": [
              "<div>\n",
              "<style scoped>\n",
              "    .dataframe tbody tr th:only-of-type {\n",
              "        vertical-align: middle;\n",
              "    }\n",
              "\n",
              "    .dataframe tbody tr th {\n",
              "        vertical-align: top;\n",
              "    }\n",
              "\n",
              "    .dataframe thead th {\n",
              "        text-align: right;\n",
              "    }\n",
              "</style>\n",
              "<table border=\"1\" class=\"dataframe\">\n",
              "  <thead>\n",
              "    <tr style=\"text-align: right;\">\n",
              "      <th></th>\n",
              "      <th>hr</th>\n",
              "      <th>gsr</th>\n",
              "      <th>name</th>\n",
              "    </tr>\n",
              "  </thead>\n",
              "  <tbody>\n",
              "    <tr>\n",
              "      <th>0</th>\n",
              "      <td>0.000000</td>\n",
              "      <td>0.000000</td>\n",
              "      <td>rest</td>\n",
              "    </tr>\n",
              "    <tr>\n",
              "      <th>1</th>\n",
              "      <td>0.000000</td>\n",
              "      <td>0.000000</td>\n",
              "      <td>tag</td>\n",
              "    </tr>\n",
              "    <tr>\n",
              "      <th>2</th>\n",
              "      <td>0.000000</td>\n",
              "      <td>0.000000</td>\n",
              "      <td>tag</td>\n",
              "    </tr>\n",
              "    <tr>\n",
              "      <th>3</th>\n",
              "      <td>0.000000</td>\n",
              "      <td>0.000000</td>\n",
              "      <td>tag</td>\n",
              "    </tr>\n",
              "    <tr>\n",
              "      <th>4</th>\n",
              "      <td>94.000000</td>\n",
              "      <td>2.794556</td>\n",
              "      <td>rest</td>\n",
              "    </tr>\n",
              "    <tr>\n",
              "      <th>...</th>\n",
              "      <td>...</td>\n",
              "      <td>...</td>\n",
              "      <td>...</td>\n",
              "    </tr>\n",
              "    <tr>\n",
              "      <th>227</th>\n",
              "      <td>71.815052</td>\n",
              "      <td>2.603097</td>\n",
              "      <td>tag</td>\n",
              "    </tr>\n",
              "    <tr>\n",
              "      <th>228</th>\n",
              "      <td>91.000000</td>\n",
              "      <td>-8.060335</td>\n",
              "      <td>rest</td>\n",
              "    </tr>\n",
              "    <tr>\n",
              "      <th>229</th>\n",
              "      <td>87.555337</td>\n",
              "      <td>-3.578920</td>\n",
              "      <td>tag</td>\n",
              "    </tr>\n",
              "    <tr>\n",
              "      <th>230</th>\n",
              "      <td>87.555337</td>\n",
              "      <td>-2.408374</td>\n",
              "      <td>tag</td>\n",
              "    </tr>\n",
              "    <tr>\n",
              "      <th>231</th>\n",
              "      <td>84.604033</td>\n",
              "      <td>-5.568328</td>\n",
              "      <td>tag</td>\n",
              "    </tr>\n",
              "  </tbody>\n",
              "</table>\n",
              "<p>232 rows × 3 columns</p>\n",
              "</div>"
            ],
            "text/plain": [
              "            hr       gsr  name\n",
              "0     0.000000  0.000000  rest\n",
              "1     0.000000  0.000000   tag\n",
              "2     0.000000  0.000000   tag\n",
              "3     0.000000  0.000000   tag\n",
              "4    94.000000  2.794556  rest\n",
              "..         ...       ...   ...\n",
              "227  71.815052  2.603097   tag\n",
              "228  91.000000 -8.060335  rest\n",
              "229  87.555337 -3.578920   tag\n",
              "230  87.555337 -2.408374   tag\n",
              "231  84.604033 -5.568328   tag\n",
              "\n",
              "[232 rows x 3 columns]"
            ]
          },
          "metadata": {
            "tags": []
          }
        }
      ]
    },
    {
      "cell_type": "code",
      "metadata": {
        "colab": {
          "base_uri": "https://localhost:8080/"
        },
        "id": "BDnJX1rr0oSt",
        "outputId": "8ea20167-2daf-4d8c-97ce-711c002bd6a8"
      },
      "source": [
        "n_neighbors = 6\n",
        "\n",
        "X=dataset[['hr', 'gsr']] \n",
        "y=dataset['name']\n",
        "\n",
        "# Split dataset into training set and test set\n",
        "X_train, X_test, y_train, y_test = train_test_split(X, y, test_size=0.4) #70% training and 30% test\n",
        "\n",
        "#Create a Gaussian Classifier\n",
        "clf = neighbors.KNeighborsClassifier(n_neighbors, weights='uniform')\n",
        "\n",
        "#Train the model using the training sets y_pred=clf.predict(X_test)\n",
        "clf.fit(X_train,y_train)\n",
        "y_pred=clf.predict(X_test)\n",
        "\n",
        "# Model Accuracy, how often is the classifier correct?\n",
        "print(\"Accuracy:\",metrics.accuracy_score(y_test, y_pred))\n",
        "\n",
        "print(y_pred)\n",
        "\n",
        "result = [1 if i == 'tag' else 0 for i in y_pred]\n",
        "paintings = np.zeros(len(result))\n",
        "for i in range(len(paintings)):\n",
        "  if result[i] == 'tag':\n",
        "    paintings[i] = np.random.choice([4,5,6,11,12,13,15,16,17,20,21])\n",
        "\n",
        "print(result)\n",
        "print(paintings)"
      ],
      "execution_count": 68,
      "outputs": [
        {
          "output_type": "stream",
          "text": [
            "Accuracy: 0.6774193548387096\n",
            "['tag' 'tag' 'tag' 'tag' 'tag' 'tag' 'tag' 'tag' 'tag' 'tag' 'tag' 'tag'\n",
            " 'rest' 'tag' 'tag' 'tag' 'tag' 'tag' 'rest' 'tag' 'tag' 'tag' 'tag' 'tag'\n",
            " 'rest' 'tag' 'tag' 'tag' 'tag' 'tag' 'tag' 'tag' 'tag' 'tag' 'tag' 'tag'\n",
            " 'tag' 'tag' 'tag' 'tag' 'tag' 'tag' 'tag' 'tag' 'tag' 'rest' 'tag' 'tag'\n",
            " 'tag' 'tag' 'tag' 'tag' 'tag' 'tag' 'tag' 'tag' 'tag' 'rest' 'tag' 'tag'\n",
            " 'rest' 'tag' 'tag' 'tag' 'tag' 'tag' 'tag' 'tag' 'tag' 'tag' 'rest'\n",
            " 'rest' 'tag' 'tag' 'tag' 'tag' 'tag' 'tag' 'rest' 'tag' 'rest' 'rest'\n",
            " 'tag' 'tag' 'tag' 'rest' 'tag' 'rest' 'tag' 'rest' 'tag' 'tag' 'tag']\n",
            "[1, 1, 1, 1, 1, 1, 1, 1, 1, 1, 1, 1, 0, 1, 1, 1, 1, 1, 0, 1, 1, 1, 1, 1, 0, 1, 1, 1, 1, 1, 1, 1, 1, 1, 1, 1, 1, 1, 1, 1, 1, 1, 1, 1, 1, 0, 1, 1, 1, 1, 1, 1, 1, 1, 1, 1, 1, 0, 1, 1, 0, 1, 1, 1, 1, 1, 1, 1, 1, 1, 0, 0, 1, 1, 1, 1, 1, 1, 0, 1, 0, 0, 1, 1, 1, 0, 1, 0, 1, 0, 1, 1, 1]\n",
            "[0. 0. 0. 0. 0. 0. 0. 0. 0. 0. 0. 0. 0. 0. 0. 0. 0. 0. 0. 0. 0. 0. 0. 0.\n",
            " 0. 0. 0. 0. 0. 0. 0. 0. 0. 0. 0. 0. 0. 0. 0. 0. 0. 0. 0. 0. 0. 0. 0. 0.\n",
            " 0. 0. 0. 0. 0. 0. 0. 0. 0. 0. 0. 0. 0. 0. 0. 0. 0. 0. 0. 0. 0. 0. 0. 0.\n",
            " 0. 0. 0. 0. 0. 0. 0. 0. 0. 0. 0. 0. 0. 0. 0. 0. 0. 0. 0. 0. 0.]\n"
          ],
          "name": "stdout"
        }
      ]
    },
    {
      "cell_type": "code",
      "metadata": {
        "id": "pwyQUGS_ULF2"
      },
      "source": [
        "\n",
        "'''\n",
        "HR = []\n",
        "for item in data:\n",
        "  for ar in item:\n",
        "    R = FindSequence(ar, 3)\n",
        "'''\n",
        "\n",
        "rest_ekg = data[11][0]\n",
        "spiders_ekg = data[11][1]\n",
        "\n",
        "Fs = 100\n",
        "T = len(rest_ekg)/Fs\n",
        "dt = 1/Fs\n",
        "t = np.arange(0,T,dt)\n",
        "\n",
        "min_len = 60*Fs #długość minuty\n",
        "R_peaks = FindSequence(rest_ekg, 2)\n",
        "print(\"Liczba wykrytych pików R w minucie sygnału zebranego podczas odpoczynku:\",len(R_peaks))\n",
        "\n",
        "R = FindSequence(rest_ekg, 2)\n",
        "print(\"Liczba wykrytych pików R:\",len(R))\n",
        "plt.plot(t, rest_ekg)\n",
        "for i in R:\n",
        "    plt.axvline(x=t[i][1],ymin=-0.5,ymax=1,color=\"crimson\")\n",
        "plt.title('Przefiltrowany sygnał z pikami R zaznaczonymi kolorem czerwonym (FindSequence())')\n",
        "plt.ylabel(\"Napięcie [mV]\")\n",
        "plt.xlabel('Czas [s]')\n",
        "plt.grid(True)\n",
        "plt.show()"
      ],
      "execution_count": null,
      "outputs": []
    }
  ]
}